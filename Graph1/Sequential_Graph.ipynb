{
 "cells": [
  {
   "cell_type": "code",
   "execution_count": 4,
   "id": "539169c8",
   "metadata": {},
   "outputs": [],
   "source": [
    "from typing import Dict,TypedDict\n",
    "from langgraph.graph import StateGraph"
   ]
  },
  {
   "cell_type": "code",
   "execution_count": 5,
   "id": "c3b34aab",
   "metadata": {},
   "outputs": [],
   "source": [
    "class AgentState(TypedDict):\n",
    "    name:str\n",
    "    age:int\n",
    "    final:str"
   ]
  },
  {
   "cell_type": "code",
   "execution_count": 6,
   "id": "69acde9f",
   "metadata": {},
   "outputs": [],
   "source": [
    "def first_node(state:AgentState)->AgentState:\n",
    "    \"\"\"\n",
    "    This is the first node of the graph.\n",
    "    \"\"\"\n",
    "    state[\"final\"]= \"hey \"+ state[\"name\"]\n",
    "    return state\n",
    "\n",
    "def second_node(state:AgentState)->AgentState:\n",
    "    \"\"\"\n",
    "    This is the second node of the graph.\n",
    "    \"\"\"\n",
    "    state[\"final\"]= state[\"final\"]+ \" your age is \"+ str(state[\"age\"])\n",
    "    return state\n",
    "\n"
   ]
  },
  {
   "cell_type": "code",
   "execution_count": 9,
   "id": "051b3bd6",
   "metadata": {},
   "outputs": [],
   "source": [
    "graph = StateGraph(AgentState)\n",
    "\n",
    "graph.add_node(\"first\",first_node)\n",
    "graph.add_node(\"second\",second_node)\n",
    "graph.set_entry_point(\"first\")\n",
    "graph.set_finish_point(\"second\")\n",
    "graph.add_edge(\"first\",\"second\")\n",
    "\n",
    "app = graph.compile()"
   ]
  },
  {
   "cell_type": "code",
   "execution_count": 10,
   "id": "a868e923",
   "metadata": {},
   "outputs": [
    {
     "data": {
      "image/png": "[encoded data removed]",
      "text/plain": [
       "<IPython.core.display.Image object>"
      ]
     },
     "metadata": {},
     "output_type": "display_data"
    },
    {
     "data": {
      "text/plain": [
       "'hey John your age is 25'"
      ]
     },
     "execution_count": 10,
     "metadata": {},
     "output_type": "execute_result"
    }
   ],
   "source": [
    "from IPython.display import Image, display\n",
    "display(Image(app.get_graph().draw_mermaid_png()))\n",
    "result = app.invoke({\"name\":\"John\",\"age\":25})\n",
    "result[\"final\"]"
   ]
  }
 ],
 "metadata": {
  "kernelspec": {
   "display_name": ".venv",
   "language": "python",
   "name": "python3"
  },
  "language_info": {
   "codemirror_mode": {
    "name": "ipython",
    "version": 3
   },
   "file_extension": ".py",
   "mimetype": "text/x-python",
   "name": "python",
   "nbconvert_exporter": "python",
   "pygments_lexer": "ipython3",
   "version": "3.13.7"
  }
 },
 "nbformat": 4,
 "nbformat_minor": 5
}
